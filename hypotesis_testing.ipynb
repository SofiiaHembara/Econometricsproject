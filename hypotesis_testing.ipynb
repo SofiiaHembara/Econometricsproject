{
 "cells": [
  {
   "cell_type": "code",
   "execution_count": 6,
   "id": "6be6fb97",
   "metadata": {},
   "outputs": [],
   "source": [
    "import pandas as pd\n",
    "import numpy as np\n",
    "from statsmodels.stats.outliers_influence import variance_inflation_factor\n",
    "from statsmodels.tools.tools import add_constant\n",
    "import matplotlib.pyplot as plt\n",
    "import seaborn as sns\n",
    "import statsmodels.api as sm"
   ]
  },
  {
   "cell_type": "code",
   "execution_count": 12,
   "id": "f897ff78",
   "metadata": {},
   "outputs": [
    {
     "name": "stdout",
     "output_type": "stream",
     "text": [
      "H1 Results:\n",
      "β̂ = 0.0630, SE = 0.0003, z = 243.6608, one-sided p (β>0) = 0.0000\n"
     ]
    }
   ],
   "source": [
    "# Hypothesis H1: Total Number of Transactions → Higher Reliability\n",
    "\n",
    "# 0. Load data\n",
    "df = pd.read_csv('final.csv')\n",
    "\n",
    "# 1. Compute total number of transactions per user\n",
    "df['num_transactions'] = df.groupby('user_id')['order_id'].transform('count')\n",
    "\n",
    "# 2. Prepare response and predictor variables\n",
    "y = df['is_reliable_user']   # binary flag: 1 if reliable, 0 otherwise\n",
    "X = df[['num_transactions']]\n",
    "X = sm.add_constant(X)\n",
    "\n",
    "# 3. Fit the logistic regression model\n",
    "model8 = sm.Logit(y, X).fit(disp=False)\n",
    "\n",
    "# 4. One-sided test for H1: β_num_transactions > 0\n",
    "beta   = model8.params['num_transactions']\n",
    "se     = model8.bse['num_transactions']\n",
    "z_stat = beta / se\n",
    "p_two  = model8.pvalues['num_transactions']\n",
    "# one-sided p-value for β > 0\n",
    "p_one  = (p_two / 2) if beta > 0 else (1 - p_two / 2)\n",
    "\n",
    "print(\"H1 Results:\")\n",
    "print(f\"β̂ = {beta:.4f}, SE = {se:.4f}, z = {z_stat:.4f}, one-sided p (β>0) = {p_one:.4f}\")\n"
   ]
  },
  {
   "cell_type": "code",
   "execution_count": 14,
   "id": "a1e07594",
   "metadata": {},
   "outputs": [
    {
     "name": "stdout",
     "output_type": "stream",
     "text": [
      "H2 Results:\n",
      "β̂ = -26.7018, SE = 0.3911, z = -68.2668, one-sided p (β<0) = 0.0000\n"
     ]
    }
   ],
   "source": [
    "# Hypothesis H2: Transaction Error Rate → Lower Reliability\n",
    "\n",
    "\n",
    "# 1. Load transaction errors and parse timestamps\n",
    "df_err = pd.read_csv('sorted_users_with_ids.csv', parse_dates=['event_time'])\n",
    "\n",
    "# 2. Aggregate per user:\n",
    "#    - num_transactions: total orders\n",
    "#    - error_count: orders with error_type != 0\n",
    "user_error = (\n",
    "    df_err\n",
    "    .groupby('user_id')\n",
    "    .agg(\n",
    "        num_transactions = ('order_id', 'count'),\n",
    "        error_count      = ('error_type', lambda x: (x != 0).sum())\n",
    "    )\n",
    "    .reset_index()\n",
    ")\n",
    "user_error['error_rate'] = user_error['error_count'] / user_error['num_transactions']\n",
    "\n",
    "# 3. Load main dataset with reliability flag\n",
    "df_main = pd.read_csv('final.csv')\n",
    "\n",
    "# 4. Build user-level dataset with is_reliable_user and error_rate\n",
    "df_user = (\n",
    "    df_main[['user_id', 'is_reliable_user']]\n",
    "    .drop_duplicates('user_id')\n",
    "    .merge(user_error[['user_id', 'error_rate']], on='user_id', how='left')\n",
    ")\n",
    "# Fill missing error_rate values with zero\n",
    "df_user['error_rate'] = df_user['error_rate'].fillna(0)\n",
    "\n",
    "# 5. Fit logistic regression model for H2 (test β_error_rate < 0)\n",
    "y = df_user['is_reliable_user']\n",
    "X = add_constant(df_user[['error_rate']])\n",
    "model2 = sm.Logit(y, X).fit(disp=False)\n",
    "\n",
    "# 6. Calculate coefficient, SE, z-stat, and one-sided p-value\n",
    "beta   = model2.params['error_rate']\n",
    "se     = model2.bse['error_rate']\n",
    "z_stat = beta / se\n",
    "p_two  = model2.pvalues['error_rate']\n",
    "# One-sided p: p_two/2 if beta<0, else 1 - p_two/2\n",
    "p_one  = (p_two / 2) if beta < 0 else (1 - p_two / 2)\n",
    "\n",
    "print(\"H2 Results:\")\n",
    "print(f\"β̂ = {beta:.4f}, SE = {se:.4f}, z = {z_stat:.4f}, one-sided p (β<0) = {p_one:.4f}\")\n"
   ]
  },
  {
   "cell_type": "code",
   "execution_count": 13,
   "id": "1ee800f4",
   "metadata": {},
   "outputs": [
    {
     "name": "stdout",
     "output_type": "stream",
     "text": [
      "\n",
      "H3 Results:\n",
      "β̂ = -0.0490, SE = 0.0065, z = -7.5699, one-sided p (β<0) = 0.0000\n"
     ]
    }
   ],
   "source": [
    "# Hypothesis H3: Night-time Transactions (00:00–05:59) → Lower Reliability\n",
    "\n",
    "# 1. Parse timestamps and create a binary night_txn flag\n",
    "df['event_time'] = pd.to_datetime(df['event_time'])\n",
    "df['hour'] = df['event_time'].dt.hour\n",
    "df['night_txn'] = ((df['hour'] >= 0) & (df['hour'] < 6)).astype(int)\n",
    "\n",
    "# 2. Prepare response (y) and predictor (X)\n",
    "y = df['is_reliable_user']               # binary reliability indicator\n",
    "X = df[['night_txn']]\n",
    "X = sm.add_constant(X)\n",
    "\n",
    "# 3. Fit logistic regression and perform one-sided test H1: β_night_txn < 0\n",
    "model10 = sm.Logit(y, X).fit(disp=False)\n",
    "\n",
    "beta   = model10.params['night_txn']\n",
    "se     = model10.bse['night_txn']\n",
    "z_stat = beta / se\n",
    "p_two  = model10.pvalues['night_txn']\n",
    "# one-sided p-value for H1: β < 0\n",
    "p_one  = (p_two / 2) if beta < 0 else (1 - p_two / 2)\n",
    "\n",
    "print(\"\\nH3 Results:\")\n",
    "print(f\"β̂ = {beta:.4f}, SE = {se:.4f}, z = {z_stat:.4f}, one-sided p (β<0) = {p_one:.4f}\")\n"
   ]
  },
  {
   "cell_type": "code",
   "execution_count": null,
   "id": "ee733cc1",
   "metadata": {},
   "outputs": [
    {
     "name": "stdout",
     "output_type": "stream",
     "text": [
      "day_Friday: β̂ = -0.8618, SE = 0.0075, z = -114.7895, one-sided p = 0.0000\n",
      "day_Sunday: β̂ = -0.7492, SE = 0.0088, z = -84.7146, one-sided p = 0.0000\n",
      "\n",
      "Joint Wald χ² = 16236.60, p-value = 0.0000\n"
     ]
    },
    {
     "name": "stderr",
     "output_type": "stream",
     "text": [
      "/usr/local/lib/python3.11/site-packages/statsmodels/base/model.py:1912: FutureWarning: The behavior of wald_test will change after 0.14 to returning scalar test statistic values. To get the future behavior now, set scalar to True. To silence this message while retaining the legacy behavior, set scalar to False.\n",
      "  warnings.warn(\n"
     ]
    }
   ],
   "source": [
    "# Hypothesis H4: Weekend Transactions (Friday & Sunday) → Lower Reliability\n",
    "\n",
    "# 0. Parse timestamps\n",
    "df['event_time'] = pd.to_datetime(df['event_time'])\n",
    "\n",
    "# 1. Create boolean flags for Friday and Sunday transactions\n",
    "df['day_Friday'] = (df['event_time'].dt.day_name() == 'Friday').astype(int)\n",
    "df['day_Sunday'] = (df['event_time'].dt.day_name() == 'Sunday').astype(int)\n",
    "\n",
    "# 2. Compute total number of transactions per user\n",
    "df['num_transactions'] = df.groupby('user_id')['order_id'].transform('count')\n",
    "\n",
    "# 3. Prepare response (y) and predictors (X)\n",
    "y = df['is_reliable_user']  # binary reliability flag\n",
    "X = df[['day_Friday', 'day_Sunday', 'price', 'avg_price', 'num_transactions']]\n",
    "X = sm.add_constant(X)\n",
    "\n",
    "# 4. Fit the logistic regression model\n",
    "model = sm.Logit(y, X).fit(disp=False)\n",
    "\n",
    "# 5. One-sided tests for each day (H1: coefficient < 0)\n",
    "for day in ['day_Friday', 'day_Sunday']:\n",
    "    beta   = model.params[day]\n",
    "    se     = model.bse[day]\n",
    "    z_stat = beta / se\n",
    "    p_two  = model.pvalues[day]\n",
    "    # For H1: β < 0, one-sided p = p_two/2 if beta<0, else = 1 - p_two/2\n",
    "    p_one  = (p_two / 2) if beta < 0 else (1 - p_two / 2)\n",
    "    print(f\"{day}: β̂ = {beta:.4f}, SE = {se:.4f}, z = {z_stat:.4f}, one-sided p = {p_one:.4f}\")\n",
    "\n",
    "# 6. Joint Wald test for H0: β_day_Friday = 0 and β_day_Sunday = 0\n",
    "wald = model.wald_test('day_Friday = 0, day_Sunday = 0')\n",
    "print(f\"\\nJoint Wald χ² = {wald.statistic[0][0]:.2f}, p-value = {wald.pvalue:.4f}\")\n"
   ]
  },
  {
   "cell_type": "code",
   "execution_count": 15,
   "id": "fe4afb25",
   "metadata": {},
   "outputs": [
    {
     "name": "stdout",
     "output_type": "stream",
     "text": [
      "H5 Results:\n",
      "β̂ = -0.8539, SE = 0.0061, z = -139.6221, one-sided p (β<0) = 0.0000\n"
     ]
    }
   ],
   "source": [
    "# Hypothesis H5: Transaction Bursts (1-hour) → Lower Reliability\n",
    "\n",
    "# 1. Parse timestamps and sort each user’s transactions\n",
    "df['event_time'] = pd.to_datetime(df['event_time'])\n",
    "df = df.sort_values(['user_id', 'event_time'])\n",
    "\n",
    "# 2. Compute time difference between consecutive orders per user\n",
    "df['time_diff'] = df.groupby('user_id')['event_time'].diff()\n",
    "\n",
    "# 3. Flag any user who ever places two orders within one hour\n",
    "user_burst = (df['time_diff'] <= pd.Timedelta(hours=1)).groupby(df['user_id']).any()\n",
    "df['burst_1h'] = df['user_id'].map(user_burst).astype(int)\n",
    "\n",
    "# 4. Prepare response (y) and predictor (X)\n",
    "X = df[['burst_1h']]\n",
    "y = df['is_reliable_user']\n",
    "X = sm.add_constant(X)\n",
    "\n",
    "# 5. Fit the logistic regression model\n",
    "model5 = sm.Logit(y, X).fit(disp=False)\n",
    "\n",
    "# 6. Output results and one-sided test for β_burst_1h < 0\n",
    "beta   = model5.params['burst_1h']\n",
    "se     = model5.bse['burst_1h']\n",
    "z_stat = beta / se\n",
    "p_two  = model5.pvalues['burst_1h']\n",
    "# one-sided p-value for H1: β < 0\n",
    "p_one  = (p_two / 2) if beta < 0 else (1 - p_two / 2)\n",
    "\n",
    "print(\"H5 Results:\")\n",
    "print(f\"β̂ = {beta:.4f}, SE = {se:.4f}, z = {z_stat:.4f}, one-sided p (β<0) = {p_one:.4f}\")\n"
   ]
  }
 ],
 "metadata": {
  "kernelspec": {
   "display_name": "Python 3",
   "language": "python",
   "name": "python3"
  },
  "language_info": {
   "codemirror_mode": {
    "name": "ipython",
    "version": 3
   },
   "file_extension": ".py",
   "mimetype": "text/x-python",
   "name": "python",
   "nbconvert_exporter": "python",
   "pygments_lexer": "ipython3",
   "version": "3.11.11"
  }
 },
 "nbformat": 4,
 "nbformat_minor": 5
}
