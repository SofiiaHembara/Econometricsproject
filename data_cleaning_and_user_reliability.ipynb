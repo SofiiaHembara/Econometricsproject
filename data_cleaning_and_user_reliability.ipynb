{
 "cells": [
  {
   "cell_type": "code",
   "execution_count": 194,
   "metadata": {},
   "outputs": [],
   "source": [
    "import pandas as pd\n",
    "import numpy as np\n",
    "import statsmodels.api as sm\n",
    "from scipy import stats\n",
    "import statsmodels.api as sm\n",
    "from itertools import combinations\n",
    "import matplotlib.pyplot as plt\n",
    "import seaborn as sns\n",
    "from sklearn.model_selection import train_test_split\n",
    "from sklearn.linear_model import LogisticRegression\n",
    "from sklearn.metrics import classification_report, confusion_matrix, roc_auc_score"
   ]
  },
  {
   "cell_type": "markdown",
   "metadata": {},
   "source": [
    "# **Data cleaning + preparation**\n"
   ]
  },
  {
   "cell_type": "code",
   "execution_count": 195,
   "metadata": {},
   "outputs": [],
   "source": [
    "data = pd.read_csv(\"test_payment_data.csv\")"
   ]
  },
  {
   "cell_type": "code",
   "execution_count": 196,
   "metadata": {},
   "outputs": [],
   "source": [
    "columns_to_fill = [\"error_type\"]\n",
    "for col in columns_to_fill:\n",
    "    data[col].fillna(0, inplace=True)"
   ]
  },
  {
   "cell_type": "code",
   "execution_count": 197,
   "metadata": {},
   "outputs": [
    {
     "data": {
      "text/plain": [
       "#                        0\n",
       "order_id                 0\n",
       "event_time               0\n",
       "user_id                  0\n",
       "price                    0\n",
       "payment_number           0\n",
       "transaction_status       0\n",
       "card_brand               0\n",
       "card_type              770\n",
       "bank_name             2009\n",
       "error_type               0\n",
       "currency                 0\n",
       "card_country           527\n",
       "dtype: int64"
      ]
     },
     "execution_count": 197,
     "metadata": {},
     "output_type": "execute_result"
    }
   ],
   "source": [
    "missing_values_full = data.isnull().sum()\n",
    "missing_values_full"
   ]
  },
  {
   "cell_type": "code",
   "execution_count": 198,
   "metadata": {},
   "outputs": [],
   "source": [
    "data['bank_name'].fillna('Unknown', inplace=True)"
   ]
  },
  {
   "cell_type": "code",
   "execution_count": 199,
   "metadata": {},
   "outputs": [],
   "source": [
    "data['transaction_status'] = data['transaction_status'].map({'fail': 0, 'success': 1})"
   ]
  },
  {
   "cell_type": "code",
   "execution_count": 200,
   "metadata": {},
   "outputs": [],
   "source": [
    "data['card_country'].fillna('Unknown', inplace=True)"
   ]
  },
  {
   "cell_type": "code",
   "execution_count": 201,
   "metadata": {},
   "outputs": [],
   "source": [
    "data['card_type'].fillna('Unknown', inplace=True)"
   ]
  },
  {
   "cell_type": "code",
   "execution_count": 202,
   "metadata": {},
   "outputs": [
    {
     "name": "stdout",
     "output_type": "stream",
     "text": [
      "#                     0\n",
      "order_id              0\n",
      "event_time            0\n",
      "user_id               0\n",
      "price                 0\n",
      "payment_number        0\n",
      "transaction_status    0\n",
      "card_brand            0\n",
      "card_type             0\n",
      "bank_name             0\n",
      "error_type            0\n",
      "currency              0\n",
      "card_country          0\n",
      "dtype: int64\n"
     ]
    }
   ],
   "source": [
    "print(data.isnull().sum())"
   ]
  },
  {
   "cell_type": "code",
   "execution_count": 203,
   "metadata": {},
   "outputs": [],
   "source": [
    "data = data.drop_duplicates(subset=['order_id'], keep='first')\n",
    "\n",
    "data.to_csv(\"new_test_payment_data.csv\", index=False)"
   ]
  },
  {
   "cell_type": "code",
   "execution_count": 204,
   "metadata": {},
   "outputs": [],
   "source": [
    "data['event_time'] = pd.to_datetime(data['event_time'])\n",
    "\n",
    "data_sorted = data.sort_values(by=['user_id', 'event_time'])\n",
    "\n",
    "data_sorted.to_csv(\"sorted_by_user_and_time.csv\", index=False)"
   ]
  },
  {
   "cell_type": "code",
   "execution_count": 205,
   "metadata": {},
   "outputs": [],
   "source": [
    "data = pd.read_csv(\"sorted_by_user_and_time.csv\")\n",
    "\n",
    "user_id_mapping = {uid: i+1 for i, uid in enumerate(data['user_id'].unique())}\n",
    "\n",
    "data['user_id'] = data['user_id'].map(user_id_mapping)"
   ]
  },
  {
   "cell_type": "code",
   "execution_count": 206,
   "metadata": {},
   "outputs": [],
   "source": [
    "data = pd.read_csv(\"sorted_users_with_ids.csv\")\n",
    "\n",
    "summary = data.groupby('user_id').agg(\n",
    "    total_transactions=('transaction_status', 'count'),\n",
    "    success_count=('transaction_status', lambda x: (x == 1).sum()),\n",
    "    fail_count=('transaction_status', lambda x: (x == 0).sum())\n",
    ").reset_index()\n"
   ]
  },
  {
   "cell_type": "code",
   "execution_count": 207,
   "metadata": {},
   "outputs": [],
   "source": [
    "data = pd.read_csv(\"sorted_users_with_ids.csv\")\n",
    "\n",
    "summary = data.groupby('user_id').agg(\n",
    "    total_transactions=('transaction_status', 'count'),\n",
    "    success_count=('transaction_status', lambda x: (x == 1).sum()),\n",
    "    fail_count=('transaction_status', lambda x: (x == 0).sum())\n",
    ").reset_index()\n",
    "\n",
    "\n",
    "summary['success_rate_percent'] = round(\n",
    "    (summary['success_count'] / summary['total_transactions']) * 100, 2\n",
    ")\n",
    "\n",
    "summary.to_csv(\"user_transaction_summary.csv\", index=False)"
   ]
  },
  {
   "cell_type": "code",
   "execution_count": 208,
   "metadata": {},
   "outputs": [
    {
     "name": "stdout",
     "output_type": "stream",
     "text": [
      "Статистичні показники success_rate_percent:\n",
      "count                       115245.000000\n",
      "mean                            36.122848\n",
      "std                             40.072424\n",
      "min                              0.000000\n",
      "25%                              0.000000\n",
      "50%                             16.670000\n",
      "75%                             75.000000\n",
      "max                            100.000000\n",
      "variance                      1605.799151\n",
      "coefficient_of_variation         1.109337\n",
      "Name: success_rate_percent, dtype: float64\n"
     ]
    }
   ],
   "source": [
    "stats = summary['success_rate_percent'].describe()\n",
    "\n",
    "variance = summary['success_rate_percent'].var()\n",
    "coef_variation = summary['success_rate_percent'].std() / summary['success_rate_percent'].mean()\n",
    "\n",
    "stats['variance'] = variance\n",
    "stats['coefficient_of_variation'] = coef_variation\n",
    "\n",
    "print(\"Статистичні показники success_rate_percent:\")\n",
    "print(stats)\n"
   ]
  },
  {
   "cell_type": "markdown",
   "metadata": {},
   "source": [
    "# **User reliability**\n"
   ]
  },
  {
   "cell_type": "code",
   "execution_count": 209,
   "metadata": {},
   "outputs": [
    {
     "name": "stdout",
     "output_type": "stream",
     "text": [
      "Кількість надійних користувачів (поріг 60.0%): 33812\n",
      "Всього користувачів: 115245\n",
      "Частка надійних користувачів: 29.34%\n"
     ]
    }
   ],
   "source": [
    "\n",
    "user_success = data.groupby('user_id').agg(\n",
    "    total_transactions=('transaction_status', 'count'),\n",
    "    success_count=('transaction_status', lambda x: (x == 1).sum())\n",
    ")\n",
    "user_success['success_rate'] = user_success['success_count'] / user_success['total_transactions']\n",
    "\n",
    "threshold = 0.6\n",
    "\n",
    "reliable_users = user_success[user_success['success_rate'] >= threshold]\n",
    "\n",
    "print(f\"Кількість надійних користувачів (поріг {threshold*100}%): {len(reliable_users)}\")\n",
    "print(f\"Всього користувачів: {len(user_success)}\")\n",
    "print(f\"Частка надійних користувачів: {round(len(reliable_users) / len(user_success) * 100, 2)}%\")\n"
   ]
  },
  {
   "cell_type": "code",
   "execution_count": 210,
   "metadata": {},
   "outputs": [
    {
     "name": "stdout",
     "output_type": "stream",
     "text": [
      "0.7619508012717939\n"
     ]
    }
   ],
   "source": [
    "mean = user_success['success_rate'].mean()\n",
    "std = user_success['success_rate'].std()\n",
    "\n",
    "threshold = mean + std\n",
    "reliable_users = user_success[user_success['success_rate'] >= threshold]\n",
    "\n",
    "print(threshold)\n"
   ]
  },
  {
   "cell_type": "code",
   "execution_count": 211,
   "metadata": {},
   "outputs": [
    {
     "name": "stdout",
     "output_type": "stream",
     "text": [
      "         success_rate_percent  is_reliable_user\n",
      "user_id                                        \n",
      "1                    0.000000                 0\n",
      "2                   75.000000                 1\n",
      "3                    0.000000                 0\n",
      "4                  100.000000                 1\n",
      "5                   16.666667                 0\n"
     ]
    }
   ],
   "source": [
    "user_success['success_rate_percent'] = user_success['success_rate'] * 100\n",
    "\n",
    "user_success['is_reliable_user'] = (user_success['success_rate_percent'] > 60).astype(int)\n",
    "\n",
    "\n",
    "print(user_success[['success_rate_percent', 'is_reliable_user']].head())\n"
   ]
  },
  {
   "cell_type": "code",
   "execution_count": 212,
   "metadata": {},
   "outputs": [
    {
     "name": "stdout",
     "output_type": "stream",
     "text": [
      "Файл збережено як user_transaction_summary_updated.csv\n"
     ]
    }
   ],
   "source": [
    "summary['is_reliable_user'] = (summary['success_rate_percent'] > 60).astype(int)\n",
    "\n",
    "summary.to_csv(\"user_transaction_summary_updated.csv\", index=False)\n"
   ]
  },
  {
   "cell_type": "code",
   "execution_count": 213,
   "metadata": {},
   "outputs": [
    {
     "name": "stdout",
     "output_type": "stream",
     "text": [
      "         success_rate_percent  avg_price  high_avg_price\n",
      "user_id                                                 \n",
      "1                    0.000000   5.000000               0\n",
      "2                   75.000000  46.500000               1\n",
      "3                    0.000000   5.000000               0\n",
      "4                  100.000000  60.333333               1\n",
      "5                   16.666667  26.833333               1\n"
     ]
    }
   ],
   "source": [
    "\n",
    "user_avg_price = data.groupby('user_id')['price'].mean().rename('avg_price')\n",
    "\n",
    "summary = data.groupby('user_id').agg(\n",
    "    total_transactions=('transaction_status', 'count'),\n",
    "    success_count=('transaction_status', lambda x: (x == 1).sum())\n",
    ")\n",
    "summary['success_rate_percent'] = (summary['success_count'] / summary['total_transactions']) * 100\n",
    "\n",
    "summary = summary.join(user_avg_price)\n",
    "\n",
    "price_threshold = 25\n",
    "summary['high_avg_price'] = (summary['avg_price'] > price_threshold).astype(int)\n",
    "\n",
    "print(summary[['success_rate_percent', 'avg_price', 'high_avg_price']].head())\n"
   ]
  },
  {
   "cell_type": "code",
   "execution_count": 214,
   "metadata": {},
   "outputs": [
    {
     "name": "stdout",
     "output_type": "stream",
     "text": [
      "         success_rate_percent  avg_price  high_avg_price\n",
      "user_id                                                 \n",
      "1                    0.000000        NaN               0\n",
      "2                   75.000000  53.000000               1\n",
      "3                    0.000000        NaN               0\n",
      "4                  100.000000  60.333333               1\n",
      "5                   16.666667   5.000000               0\n"
     ]
    }
   ],
   "source": [
    "successful_only = data[data['transaction_status'] == 1]\n",
    "\n",
    "user_avg_price = successful_only.groupby('user_id')['price'].mean().rename('avg_price')\n",
    "\n",
    "summary = data.groupby('user_id').agg(\n",
    "    total_transactions=('transaction_status', 'count'),\n",
    "    success_count=('transaction_status', lambda x: (x == 1).sum())\n",
    ")\n",
    "summary['success_rate_percent'] = (summary['success_count'] / summary['total_transactions']) * 100\n",
    "\n",
    "summary = summary.join(user_avg_price)\n",
    "\n",
    "price_threshold = 25\n",
    "summary['high_avg_price'] = (summary['avg_price'] > price_threshold).astype(int)\n",
    "\n",
    "print(summary[['success_rate_percent', 'avg_price', 'high_avg_price']].head())"
   ]
  },
  {
   "cell_type": "code",
   "execution_count": 215,
   "metadata": {},
   "outputs": [
    {
     "name": "stdout",
     "output_type": "stream",
     "text": [
      "Середній середній чек: 16.39 USD\n"
     ]
    }
   ],
   "source": [
    "overall_avg_price = summary['avg_price'].mean()\n",
    "\n",
    "print(f\"Середній середній чек: {round(overall_avg_price, 2)} USD\")\n"
   ]
  },
  {
   "cell_type": "code",
   "execution_count": 216,
   "metadata": {},
   "outputs": [
    {
     "data": {
      "text/plain": [
       "29.158604726504095"
      ]
     },
     "execution_count": 216,
     "metadata": {},
     "output_type": "execute_result"
    }
   ],
   "source": [
    "mean = summary['avg_price'].mean()\n",
    "std = summary['avg_price'].std()\n",
    "price_threshold = mean + std\n",
    "\n",
    "price_threshold"
   ]
  },
  {
   "cell_type": "code",
   "execution_count": 217,
   "metadata": {},
   "outputs": [
    {
     "data": {
      "text/plain": [
       "13.5"
      ]
     },
     "execution_count": 217,
     "metadata": {},
     "output_type": "execute_result"
    }
   ],
   "source": [
    "summary['avg_price'].median()"
   ]
  },
  {
   "cell_type": "code",
   "execution_count": 218,
   "metadata": {},
   "outputs": [
    {
     "data": {
      "text/plain": [
       "count    70181.000000\n",
       "mean        16.391333\n",
       "std         12.767272\n",
       "min          4.000000\n",
       "25%          5.000000\n",
       "50%         13.500000\n",
       "75%         25.200000\n",
       "max         73.000000\n",
       "Name: avg_price, dtype: float64"
      ]
     },
     "execution_count": 218,
     "metadata": {},
     "output_type": "execute_result"
    }
   ],
   "source": [
    "summary['avg_price'].describe()\n"
   ]
  },
  {
   "cell_type": "code",
   "execution_count": 219,
   "metadata": {},
   "outputs": [
    {
     "name": "stdout",
     "output_type": "stream",
     "text": [
      "Кількість платоспроможних користувачів (avg_price > 13.5): 35087\n",
      "Всього користувачів: 115245\n",
      "Частка платоспроможних користувачів: 30.45%\n"
     ]
    }
   ],
   "source": [
    "successful_only = data[data['transaction_status'] == 1]\n",
    "user_avg_price = successful_only.groupby('user_id')['price'].mean().rename('avg_price')\n",
    "\n",
    "summary = data.groupby('user_id').agg(\n",
    "    total_transactions=('transaction_status', 'count'),\n",
    "    success_count=('transaction_status', lambda x: (x == 1).sum())\n",
    ")\n",
    "summary = summary.join(user_avg_price)\n",
    "\n",
    "price_threshold = 13.5\n",
    "high_avg_price_users = summary[summary['avg_price'] > price_threshold]\n",
    "\n",
    "print(f\"Кількість платоспроможних користувачів (avg_price > {price_threshold}): {len(high_avg_price_users)}\")\n",
    "print(f\"Всього користувачів: {len(summary)}\")\n",
    "print(f\"Частка платоспроможних користувачів: {round(len(high_avg_price_users) / len(summary) * 100, 2)}%\")\n"
   ]
  },
  {
   "cell_type": "code",
   "execution_count": 221,
   "metadata": {},
   "outputs": [
    {
     "name": "stdout",
     "output_type": "stream",
     "text": [
      "Кількість користувачів, які пройшли обидва фільтри: 33812\n",
      "Всього користувачів: 115245\n",
      "Частка таких користувачів від загального числа: 29.34%\n"
     ]
    }
   ],
   "source": [
    "successful_only = data[data['transaction_status'] == 1]\n",
    "user_avg_price = successful_only.groupby('user_id')['price'].mean().rename('avg_price')\n",
    "\n",
    "summary = data.groupby('user_id').agg(\n",
    "    total_transactions=('transaction_status', 'count'),\n",
    "    success_count=('transaction_status', lambda x: (x == 1).sum())\n",
    ")\n",
    "summary['success_rate'] = summary['success_count'] / summary['total_transactions']\n",
    "\n",
    "\n",
    "summary = summary.join(user_avg_price)\n",
    "\n",
    "\n",
    "price_threshold = 13.5\n",
    "rate_threshold = 0.6\n",
    "\n",
    "filtered_users = summary[\n",
    "    (summary['avg_price'] > price_threshold) &\n",
    "    (summary['success_rate'] >= rate_threshold)\n",
    "]\n",
    "filtered_users = summary[\n",
    "    (summary['success_rate'] >= rate_threshold)\n",
    "]\n",
    "\n",
    "\n",
    "total_users = len(summary)\n",
    "selected_users = len(filtered_users)\n",
    "selected_percent = round(selected_users / total_users * 100, 2)\n",
    "\n",
    "\n",
    "print(f\"Кількість користувачів, які пройшли обидва фільтри: {selected_users}\")\n",
    "print(f\"Всього користувачів: {total_users}\")\n",
    "print(f\"Частка таких користувачів від загального числа: {selected_percent}%\")\n"
   ]
  },
  {
   "cell_type": "code",
   "execution_count": 222,
   "metadata": {},
   "outputs": [],
   "source": [
    "data = pd.read_csv('new_test_payment_data.csv')\n",
    "\n",
    "successful_only = data[data['transaction_status'] == 1]\n",
    "user_avg_price = successful_only.groupby('user_id')['price'].mean().rename('avg_price')\n",
    "\n",
    "\n",
    "summary = data.groupby('user_id').agg(\n",
    "    total_transactions=('transaction_status', 'count'),\n",
    "    success_count=('transaction_status', lambda x: (x == 1).sum())\n",
    ")\n",
    "summary['success_rate'] = summary['success_count'] / summary['total_transactions']\n",
    "\n",
    "summary = summary.join(user_avg_price)\n",
    "\n",
    "price_threshold = 13.5\n",
    "rate_threshold = 0.6\n",
    "summary['is_reliable_user'] = (\n",
    "    (summary['avg_price'] > price_threshold) &\n",
    "    (summary['success_rate'] >= rate_threshold)\n",
    ").astype(int)\n",
    "\n",
    "\n",
    "data = data.merge(summary['is_reliable_user'], on='user_id', how='left')\n",
    "\n",
    "\n",
    "data.to_csv('payment_data_with_reliability.csv', index=False)\n"
   ]
  },
  {
   "cell_type": "code",
   "execution_count": 223,
   "metadata": {},
   "outputs": [],
   "source": [
    "multi_tx_df = pd.read_csv(\"sorted_users_with_ids.csv\")\n",
    "data = pd.read_csv(\"new_test_payment_data.csv\")\n",
    "\n",
    "successful_only = data[data['transaction_status'] == 1]\n",
    "user_avg_price = successful_only.groupby('user_id')['price'].mean().rename('avg_price')\n",
    "\n",
    "\n",
    "summary = data.groupby('user_id').agg(\n",
    "    total_transactions=('transaction_status', 'count'),\n",
    "    success_count=('transaction_status', lambda x: (x == 1).sum())\n",
    ")\n",
    "summary['success_rate'] = summary['success_count'] / summary['total_transactions']\n",
    "summary = summary.join(user_avg_price)\n",
    "\n",
    "\n",
    "summary['is_reliable_user'] = (\n",
    "    (summary['avg_price'] > 13.5) &\n",
    "    (summary['success_rate'] >= 0.6)\n",
    ").astype(int)\n",
    "\n",
    "\n",
    "multi_tx_df['user_id'] = multi_tx_df['user_id'].astype(str)\n",
    "summary.index = summary.index.astype(str)\n",
    "\n",
    "multi_tx_df = multi_tx_df.merge(summary['is_reliable_user'], on='user_id', how='left')\n",
    "\n",
    "multi_tx_df.to_csv(\"sorted_users_with_reliability.csv\", index=False)\n"
   ]
  },
  {
   "cell_type": "code",
   "execution_count": 224,
   "metadata": {},
   "outputs": [],
   "source": [
    "summary_df = pd.read_csv(\"user_transaction_summary_updated.csv\")\n",
    "transactions_df = pd.read_csv(\"sorted_users_with_ids.csv\")\n",
    "\n",
    "\n",
    "summary_df['user_id'] = summary_df['user_id'].astype(str)\n",
    "transactions_df['user_id'] = transactions_df['user_id'].astype(str)\n",
    "\n",
    "\n",
    "merged_df = transactions_df.merge(\n",
    "    summary_df[['user_id', 'is_reliable_user']],\n",
    "    on='user_id',\n",
    "    how='left'\n",
    ")\n",
    "\n",
    "\n",
    "merged_df.to_csv(\"sorted_users_with_reliability.csv\", index=False)\n"
   ]
  },
  {
   "cell_type": "markdown",
   "metadata": {},
   "source": [
    "$$\n",
    "\\text{logit}(P(\\text{надійний})) =\n",
    "\\beta_0 +\n",
    "\\beta_1 \\cdot \\text{price} +\n",
    "\\beta_2 \\cdot \\text{payment\\_initial} +\n",
    "\\beta_3 \\cdot \\text{transaction\\_status} +\n",
    "\\sum_{i=1}^{n} \\beta_{4i} \\cdot \\text{card\\_brand}_i +\n",
    "\\sum_{j=1}^{m} \\beta_{5j} \\cdot \\text{card\\_type}_j +\n",
    "\\sum_{k=1}^{p} \\beta_{6k} \\cdot \\text{bank\\_name}_k +\n",
    "\\beta_7 \\cdot \\text{avg\\_error\\_type} +\n",
    "\\sum_{l=1}^{r} \\beta_{8l} \\cdot \\text{currency}_l +\n",
    "\\sum_{t=1}^{s} \\beta_{9t} \\cdot \\text{card\\_country}_t\n",
    "$$\n"
   ]
  }
 ],
 "metadata": {
  "kernelspec": {
   "display_name": "Python 3",
   "language": "python",
   "name": "python3"
  },
  "language_info": {
   "codemirror_mode": {
    "name": "ipython",
    "version": 3
   },
   "file_extension": ".py",
   "mimetype": "text/x-python",
   "name": "python",
   "nbconvert_exporter": "python",
   "pygments_lexer": "ipython3",
   "version": "3.11.10"
  },
  "orig_nbformat": 4
 },
 "nbformat": 4,
 "nbformat_minor": 2
}
