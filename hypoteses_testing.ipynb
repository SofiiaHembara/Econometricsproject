{
 "cells": [
  {
   "cell_type": "code",
   "execution_count": null,
   "id": "04f95277",
   "metadata": {},
   "outputs": [],
   "source": [
    "import pandas as pd\n",
    "import statsmodels.api as sm\n",
    "import numpy as np"
   ]
  },
  {
   "cell_type": "code",
   "execution_count": null,
   "id": "f06da22e",
   "metadata": {},
   "outputs": [
    {
     "name": "stdout",
     "output_type": "stream",
     "text": [
      "Warning: Maximum number of iterations has been exceeded.\n",
      "         Current function value: 0.028782\n",
      "         Iterations: 35\n"
     ]
    },
    {
     "name": "stderr",
     "output_type": "stream",
     "text": [
      "/usr/local/lib/python3.11/site-packages/statsmodels/base/model.py:607: ConvergenceWarning: Maximum Likelihood optimization failed to converge. Check mle_retvals\n",
      "  warnings.warn(\"Maximum Likelihood optimization failed to \"\n"
     ]
    },
    {
     "name": "stdout",
     "output_type": "stream",
     "text": [
      "                           Logit Regression Results                           \n",
      "==============================================================================\n",
      "Dep. Variable:       is_reliable_user   No. Observations:               565315\n",
      "Model:                          Logit   Df Residuals:                   565280\n",
      "Method:                           MLE   Df Model:                           34\n",
      "Date:                Mon, 05 May 2025   Pseudo R-squ.:                  0.9547\n",
      "Time:                        19:02:34   Log-Likelihood:                -16271.\n",
      "converged:                      False   LL-Null:                   -3.5917e+05\n",
      "Covariance Type:            nonrobust   LLR p-value:                     0.000\n",
      "===============================================================================================================\n",
      "                                                  coef    std err          z      P>|z|      [0.025      0.975]\n",
      "---------------------------------------------------------------------------------------------------------------\n",
      "const                                          21.5883      0.253     85.279      0.000      21.092      22.084\n",
      "#                                            5.801e-08   8.77e-08      0.661      0.509   -1.14e-07     2.3e-07\n",
      "price                                          -0.0148      0.002     -8.303      0.000      -0.018      -0.011\n",
      "transaction_status                              0.3432      0.030     11.370      0.000       0.284       0.402\n",
      "is_usd                                          0.0886      0.056      1.594      0.111      -0.020       0.197\n",
      "error_3.02                                    -12.3782    505.828     -0.024      0.980   -1003.783     979.026\n",
      "error_3.04                                     -5.9672    166.139     -0.036      0.971    -331.594     319.660\n",
      "error_3.08                                     -5.5161     83.041     -0.066      0.947    -168.273     157.241\n",
      "error_Other                                   -17.3619   1.95e+04     -0.001      0.999   -3.83e+04    3.83e+04\n",
      "country_CAN                                     0.3330      0.076      4.401      0.000       0.185       0.481\n",
      "country_IND                                     0.2544      0.103      2.475      0.013       0.053       0.456\n",
      "country_MEX                                     0.1741      0.101      1.728      0.084      -0.023       0.372\n",
      "country_Other                                   0.2448      0.061      4.045      0.000       0.126       0.363\n",
      "country_USA                                     0.1494      0.061      2.457      0.014       0.030       0.269\n",
      "is_initial_payment                             -1.0824      0.062    -17.379      0.000      -1.204      -0.960\n",
      "brand_DISCOVER                                  0.7554      0.222      3.398      0.001       0.320       1.191\n",
      "brand_MASTERCARD                                0.3026      0.125      2.414      0.016       0.057       0.548\n",
      "brand_Other                                    -2.7401      1.537     -1.783      0.075      -5.752       0.272\n",
      "brand_RUPAY                                    -3.0152     19.930     -0.151      0.880     -42.078      36.047\n",
      "brand_VISA                                      0.2709      0.125      2.165      0.030       0.026       0.516\n",
      "type_DEBIT                                     -0.0822      0.035     -2.362      0.018      -0.150      -0.014\n",
      "type_Other                                      0.5139      0.243      2.117      0.034       0.038       0.990\n",
      "type_PREPAID                                   -0.7019      0.116     -6.073      0.000      -0.928      -0.475\n",
      "bank_JPMORGAN CHASE BANK N.A. - DEBIT           0.4545      0.120      3.800      0.000       0.220       0.689\n",
      "bank_Other                                      0.4001      0.086      4.664      0.000       0.232       0.568\n",
      "bank_SUTTON BANK                                0.7255      0.189      3.836      0.000       0.355       1.096\n",
      "bank_THE BANCORP BANK                          -0.3699      0.146     -2.529      0.011      -0.657      -0.083\n",
      "bank_WELLS FARGO BANK, NATIONAL ASSOCIATION     0.5263      0.111      4.741      0.000       0.309       0.744\n",
      "avg_price                                       0.0321      0.003     12.381      0.000       0.027       0.037\n",
      "error_rate                                    -60.4604      0.460   -131.459      0.000     -61.362     -59.559\n",
      "num_transactions                                0.0244      0.001     20.616      0.000       0.022       0.027\n",
      "night_txn                                       0.0836      0.034      2.477      0.013       0.017       0.150\n",
      "day_Friday                                      0.0286      0.033      0.870      0.384      -0.036       0.093\n",
      "day_Sunday                                      0.1289      0.041      3.116      0.002       0.048       0.210\n",
      "burst_1h                                       -0.0851      0.033     -2.598      0.009      -0.149      -0.021\n",
      "===============================================================================================================\n",
      "\n",
      "Possibly complete quasi-separation: A fraction 0.83 of observations can be\n",
      "perfectly predicted. This might indicate that there is complete\n",
      "quasi-separation. In this case some parameters will not be identified.\n"
     ]
    }
   ],
   "source": [
    "dfn = pd.read_csv('final.csv', parse_dates=['event_time'])\n",
    "df_err = pd.read_csv('sorted_users_with_ids.csv', parse_dates=['event_time'])\n",
    "\n",
    "user_err = (\n",
    "    df_err\n",
    "    .groupby('user_id')\n",
    "    .agg(\n",
    "        num_tx      = ('order_id', 'count'),\n",
    "        error_count = ('error_type', lambda x: (x != 0).sum())\n",
    "    )\n",
    "    .assign(error_rate=lambda d: d['error_count'] / d['num_tx'])\n",
    "    .reset_index()[['user_id','error_rate']]\n",
    ")\n",
    "\n",
    "dfn = dfn.merge(user_err, on='user_id', how='left')\n",
    "dfn['error_rate'] = dfn['error_rate'].fillna(0)\n",
    "\n",
    "dfn = dfn.sort_values(['user_id','event_time'])\n",
    "dfn['num_transactions'] = dfn.groupby('user_id')['order_id'].transform('count')\n",
    "dfn['hour']             = dfn['event_time'].dt.hour\n",
    "dfn['night_txn']        = dfn['hour'].between(0,5).astype(int)\n",
    "dfn['day_Friday']       = (dfn['event_time'].dt.dayofweek == 4).astype(int)\n",
    "dfn['day_Sunday']       = (dfn['event_time'].dt.dayofweek == 6).astype(int)\n",
    "dfn['time_diff']        = dfn.groupby('user_id')['event_time'].diff()\n",
    "burst_cum               = dfn['time_diff'].le(pd.Timedelta(hours=1)).groupby(dfn['user_id']).cummax()\n",
    "dfn['burst_1h']         = burst_cum.astype(int)\n",
    "\n",
    "dfn = dfn.drop(columns=['hour','time_diff'])\n",
    "\n",
    "cols_to_drop = ['order_id','user_id','event_time','card_country']\n",
    "to_drop     = [c for c in cols_to_drop if c in dfn.columns]\n",
    "X           = dfn.drop(columns=to_drop + ['is_reliable_user'])\n",
    "y           = dfn['is_reliable_user']\n",
    "\n",
    "X = X.replace({'TRUE':1,'FALSE':0})\n",
    "X = X.apply(pd.to_numeric, errors='coerce')\n",
    "X = X.loc[:, ~X.columns.str.endswith('.1')]\n",
    "bools = X.select_dtypes(include=['bool']).columns\n",
    "X[bools] = X[bools].astype(int)\n",
    "\n",
    "X = X.dropna()\n",
    "y = y.loc[X.index]\n",
    "\n",
    "X = sm.add_constant(X)\n",
    "model = sm.Logit(y, X).fit()\n",
    "print(model.summary())\n"
   ]
  },
  {
   "cell_type": "code",
   "execution_count": null,
   "id": "0127b552",
   "metadata": {},
   "outputs": [
    {
     "name": "stdout",
     "output_type": "stream",
     "text": [
      "Hypotheses                          β̂      SE       z        p₁        OR\n",
      "--------------------------------------------------------------------------\n",
      "H1: β_num_transactions > 0       0.024   0.001  20.616    0.0000     1.025\n",
      "H2: β_error_rate < 0           -60.460   0.460-131.459    0.0000     0.000\n",
      "H3: β_night_txn < 0              0.084   0.034   2.477    0.9934     1.087\n",
      "H4: β_day_Friday < 0             0.029   0.033   0.870    0.8078     1.029\n",
      "H4: β_day_Sunday < 0             0.129   0.041   3.116    0.9991     1.138\n",
      "H5: β_burst_1h < 0              -0.085   0.033  -2.598    0.0047     0.918\n",
      "\n",
      "Joint Wald-test for H4 (Friday & Sunday):\n",
      "  χ² = 9.73, p-value = 0.0077\n"
     ]
    },
    {
     "name": "stderr",
     "output_type": "stream",
     "text": [
      "/usr/local/lib/python3.11/site-packages/statsmodels/base/model.py:607: ConvergenceWarning: Maximum Likelihood optimization failed to converge. Check mle_retvals\n",
      "  warnings.warn(\"Maximum Likelihood optimization failed to \"\n",
      "/usr/local/lib/python3.11/site-packages/statsmodels/base/model.py:1912: FutureWarning: The behavior of wald_test will change after 0.14 to returning scalar test statistic values. To get the future behavior now, set scalar to True. To silence this message while retaining the legacy behavior, set scalar to False.\n",
      "  warnings.warn(\n"
     ]
    }
   ],
   "source": [
    "result = model.fit(disp=False)\n",
    "\n",
    "def one_sided_test(res, var, alternative='greater'):\n",
    "    b, se = res.params[var], res.bse[var]\n",
    "    z     = b / se\n",
    "    p2    = res.pvalues[var]\n",
    "    if alternative=='greater':\n",
    "        p1 = p2/2 if b>0 else 1-p2/2\n",
    "    else:\n",
    "        p1 = p2/2 if b<0 else 1-p2/2\n",
    "    return b, se, z, p1\n",
    "\n",
    "tests = [\n",
    "    ('num_transactions','greater','H1: β_num_transactions > 0'),\n",
    "    ('error_rate',       'less',   'H2: β_error_rate < 0'),\n",
    "    ('night_txn',        'less',   'H3: β_night_txn < 0'),\n",
    "    ('day_Friday',       'less',   'H4: β_day_Friday < 0'),\n",
    "    ('day_Sunday',       'less',   'H4: β_day_Sunday < 0'),\n",
    "    ('burst_1h',         'less',   'H5: β_burst_1h < 0'),\n",
    "]\n",
    "\n",
    "print(f\"{'Hypotheses':<30}{'β̂':>8}{'SE':>8}{'z':>8}{'p₁':>10}{'OR':>10}\")\n",
    "print(\"-\"*74)\n",
    "\n",
    "for var, alt, label in tests:\n",
    "    b, se, z_val, p1 = one_sided_test(result, var, alternative=alt)\n",
    "    or_val = np.exp(b)\n",
    "    print(f\"{label:<30}{b:8.3f}{se:8.3f}{z_val:8.3f}{p1:10.4f}{or_val:10.3f}\")\n",
    "\n",
    "wald = result.wald_test('day_Friday = 0, day_Sunday = 0')\n",
    "print(\"\\nJoint Wald-test for H4 (Friday & Sunday):\")\n",
    "print(f\"  χ² = {wald.statistic[0][0]:.2f}, p-value = {wald.pvalue:.4f}\")"
   ]
  }
 ],
 "metadata": {
  "kernelspec": {
   "display_name": "Python 3",
   "language": "python",
   "name": "python3"
  },
  "language_info": {
   "codemirror_mode": {
    "name": "ipython",
    "version": 3
   },
   "file_extension": ".py",
   "mimetype": "text/x-python",
   "name": "python",
   "nbconvert_exporter": "python",
   "pygments_lexer": "ipython3",
   "version": "3.11.11"
  }
 },
 "nbformat": 4,
 "nbformat_minor": 5
}
